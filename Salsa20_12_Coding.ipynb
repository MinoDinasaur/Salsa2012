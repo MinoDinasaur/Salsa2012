{
  "nbformat": 4,
  "nbformat_minor": 0,
  "metadata": {
    "colab": {
      "provenance": []
    },
    "kernelspec": {
      "name": "python3",
      "display_name": "Python 3"
    },
    "language_info": {
      "name": "python"
    }
  },
  "cells": [
    {
      "cell_type": "markdown",
      "source": [
        "**Giải thuật Salsa20/12**"
      ],
      "metadata": {
        "id": "6HvdpghntHdQ"
      }
    },
    {
      "cell_type": "code",
      "execution_count": 10,
      "metadata": {
        "colab": {
          "base_uri": "https://localhost:8080/"
        },
        "id": "D8YPAk_Zrd9h",
        "outputId": "2732ccd3-e9fc-4c45-8abd-d50bebcffb8d"
      },
      "outputs": [
        {
          "output_type": "stream",
          "name": "stdout",
          "text": [
            "Encrypted: eb5eadb64f763f988da746d1c834cc5627ff07353fe376b9de41da81b36cd029a6b8e5\n",
            "Decrypted: Congatulation, you remake Salsa2012\n"
          ]
        }
      ],
      "source": [
        "def rotate_left(value, shift, bits=32):\n",
        "    \"\"\"Rotate left operation on a 32-bit integer value.\"\"\"\n",
        "    return ((value << shift) | (value >> (bits - shift))) & ((1 << bits) - 1)\n",
        "\n",
        "def quarter_round(a, b, c, d):\n",
        "    \"\"\"Perform a quarter round operation on four 32-bit integers.\"\"\"\n",
        "    a = (a + b) & 0xffffffff\n",
        "    d ^= a\n",
        "    d = rotate_left(d, 16)\n",
        "\n",
        "    c = (c + d) & 0xffffffff\n",
        "    b ^= c\n",
        "    b = rotate_left(b, 12)\n",
        "\n",
        "    a = (a + b) & 0xffffffff\n",
        "    d ^= a\n",
        "    d = rotate_left(d, 8)\n",
        "\n",
        "    c = (c + d) & 0xffffffff\n",
        "    b ^= c\n",
        "    b = rotate_left(b, 7)\n",
        "\n",
        "    return a, b, c, d\n",
        "\n",
        "def salsa2012_hash(state):\n",
        "    \"\"\"Compute the Salsa20/12 hash function on a 512-bit state.\"\"\"\n",
        "    x = list(state)\n",
        "    for _ in range(6):  # 12 rounds, performed in pairs\n",
        "        # Column rounds\n",
        "        x[4], x[8], x[12], x[0] = quarter_round(x[4], x[8], x[12], x[0])\n",
        "        x[9], x[13], x[1], x[5] = quarter_round(x[9], x[13], x[1], x[5])\n",
        "        x[14], x[2], x[6], x[10] = quarter_round(x[14], x[2], x[6], x[10])\n",
        "        x[3], x[7], x[11], x[15] = quarter_round(x[3], x[7], x[11], x[15])\n",
        "        # Diagonal rounds\n",
        "        x[1], x[2], x[3], x[0] = quarter_round(x[1], x[2], x[3], x[0])\n",
        "        x[6], x[7], x[4], x[5] = quarter_round(x[6], x[7], x[4], x[5])\n",
        "        x[11], x[8], x[9], x[10] = quarter_round(x[11], x[8], x[9], x[10])\n",
        "        x[12], x[13], x[14], x[15] = quarter_round(x[12], x[13], x[14], x[15])\n",
        "    return [(x[i] + state[i]) & 0xffffffff for i in range(16)]\n",
        "\n",
        "def generate_key_schedule(key, nonce, counter):\n",
        "    \"\"\"Generate the Salsa20 key schedule.\"\"\"\n",
        "    constants = [0x61707865, 0x3320646e, 0x79622d32, 0x6b206574]\n",
        "    key_schedule = constants[:1] + [int.from_bytes(key[i:i+4], 'little') for i in range(0, 16, 4)] \\\n",
        "                  + constants[1:3] + [counter & 0xffffffff, counter >> 32] \\\n",
        "                  + [int.from_bytes(nonce[i:i+4], 'little') for i in range(0, 8, 4)] + constants[3:]\n",
        "    if len(key) == 32:\n",
        "        key_schedule[1:5] += [int.from_bytes(key[i:i+4], 'little') for i in range(16, 32, 4)]\n",
        "    elif len(key) != 16:\n",
        "        raise ValueError(\"Key must be either 16 or 32 bytes long.\")\n",
        "    return key_schedule\n",
        "\n",
        "def encrypt(plaintext, key, nonce):\n",
        "    \"\"\"Encrypt plaintext using the Salsa20 algorithm.\"\"\"\n",
        "    assert len(nonce) == 8, \"Nonce must be 8 bytes long\"\n",
        "    encrypted = b''\n",
        "    counter = 0\n",
        "    while plaintext:\n",
        "        block = plaintext[:64]\n",
        "        plaintext = plaintext[64:]\n",
        "        key_schedule = generate_key_schedule(key, nonce, counter)\n",
        "        keystream = salsa20_hash(key_schedule)\n",
        "        keystream_bytes = b''.join(word.to_bytes(4, 'little') for word in keystream)\n",
        "        encrypted_block = bytes(a ^ b for a, b in zip(block, keystream_bytes[:len(block)]))\n",
        "        encrypted += encrypted_block\n",
        "        counter += 1\n",
        "    return encrypted\n",
        "\n",
        "def decrypt(ciphertext, key, nonce):\n",
        "    \"\"\"Decrypt ciphertext using the Salsa20 algorithm.\"\"\"\n",
        "    return encrypt(ciphertext, key, nonce)\n",
        "\n",
        "# Example usage\n",
        "key = b\"Today_I_code_Salsa2012_algorithm\"\n",
        "nonce = b\"mynonce1\"\n",
        "plaintext = b\"Congatulation, you remake Salsa2012\"\n",
        "\n",
        "encrypted = encrypt(plaintext, key, nonce)\n",
        "print(f\"Encrypted: {encrypted.hex()}\")\n",
        "\n",
        "decrypted = decrypt(encrypted, key, nonce)\n",
        "print(f\"Decrypted: {decrypted.decode()}\")\n"
      ]
    },
    {
      "cell_type": "code",
      "source": [
        "def key_scheduling_algorithm(key):\n",
        "    key_length = len(key)\n",
        "    S = list(range(256))\n",
        "    j = 0\n",
        "    for i in range(256):\n",
        "        j = (j + S[i] + key[i % key_length]) % 256\n",
        "        S[i], S[j] = S[j], S[i]\n",
        "    return S\n",
        "\n",
        "def pseudo_random_generation_algorithm(S):\n",
        "    i = 0\n",
        "    j = 0\n",
        "    while True:\n",
        "        i = (i + 1) % 256\n",
        "        j = (j + S[i]) % 256\n",
        "        S[i], S[j] = S[j], S[i]\n",
        "        K = S[(S[i] + S[j]) % 256]\n",
        "        yield K\n",
        "\n",
        "def RC4_algorithm(key):\n",
        "    S = key_scheduling_algorithm(key)\n",
        "    return pseudo_random_generation_algorithm(S)"
      ],
      "metadata": {
        "id": "-gvfeEjOsDHv"
      },
      "execution_count": 11,
      "outputs": []
    },
    {
      "cell_type": "code",
      "source": [
        "import time\n",
        "\n",
        "def benchmark_stream_generation(cipher_func, encryption_key, nonce=None, data_size=1024*1024):\n",
        "    # Bắt đầu đo thời gian\n",
        "    start_time = time.time()\n",
        "\n",
        "    # Tạo một khối dữ liệu\n",
        "    data_block = b'\\x00' * data_size\n",
        "\n",
        "    # Kiểm tra sự tồn tại của nonce để xác định thuật toán nào đang được sử dụng\n",
        "    if nonce:\n",
        "        # Đối với Salsa20/12\n",
        "        _ = cipher_func(data_block, encryption_key, nonce)\n",
        "    else:\n",
        "        # Đối với RC4, giả định rằng cipher_func được điều chỉnh để trả về dữ liệu dưới dạng bytes\n",
        "        _ = cipher_func(encryption_key, data_block)\n",
        "\n",
        "    # Kết thúc đo thời gian và tính toán thời gian chạy\n",
        "    end_time = time.time()\n",
        "    generation_time = end_time - start_time\n",
        "\n",
        "    return generation_time\n",
        "\n",
        "# Điều chỉnh RC4 để trả về dữ liệu dưới dạng bytes thay vì một generator\n",
        "def RC4_to_bytes(encryption_key, data_block):\n",
        "    keystream = RC4(encryption_key)\n",
        "    return bytes([next(keystream) for _ in range(len(data_block))])\n",
        "\n",
        "# Đo thời gian sinh dữ liệu cho Salsa20 và RC4\n",
        "salsa2012_generation_time = benchmark_stream_generation(encrypt, key, nonce)\n",
        "rc4_generation_time = benchmark_stream_generation(RC4_to_bytes, key)\n",
        "\n",
        "print(f\"Salsa20/12 Generation Time: {salsa2012_generation_time} seconds\")\n",
        "print(f\"RC4 Generation Time: {rc4_generation_time} seconds\")\n"
      ],
      "metadata": {
        "colab": {
          "base_uri": "https://localhost:8080/"
        },
        "id": "QOvB7f1msJBE",
        "outputId": "92824f1e-793e-46ff-bf00-472bac5f6fac"
      },
      "execution_count": 14,
      "outputs": [
        {
          "output_type": "stream",
          "name": "stdout",
          "text": [
            "Salsa20/12 Generation Time: 4.940304756164551 seconds\n",
            "RC4 Generation Time: 0.4647209644317627 seconds\n"
          ]
        }
      ]
    },
    {
      "cell_type": "code",
      "source": [
        "def key_sensitivity_test(encrypt_function, encryption_key, nonce=None):\n",
        "    # Tạo một khối dữ liệu nhỏ để mã hóa\n",
        "    data_block = b'\\x00' * 512\n",
        "\n",
        "    # Tạo một bản sao của key với bit đầu tiên bị đảo\n",
        "    flipped_key = bytearray(encryption_key)\n",
        "    flipped_key[0] ^= 1\n",
        "\n",
        "    # Mã hóa dữ liệu với key ban đầu và key đã được đảo bit\n",
        "    encrypted_data1 = encrypt_function(data_block, encryption_key, nonce) if nonce else RC4_to_bytes(encryption_key, data_block)\n",
        "    encrypted_data2 = encrypt_function(data_block, bytes(flipped_key), nonce) if nonce else RC4_to_bytes(bytes(flipped_key), data_block)\n",
        "\n",
        "    # Tính số lượng byte khác nhau giữa hai dữ liệu đã mã hóa\n",
        "    differing_bytes_count = sum(1 for x, y in zip(encrypted_data1, encrypted_data2) if x != y)\n",
        "    return differing_bytes_count\n",
        "\n",
        "# Thực hiện thử nghiệm so sánh độ nhạy khóa\n",
        "difference_salsa2012 = key_sensitivity_test(encrypt, key, nonce)\n",
        "difference_rc4 = key_sensitivity_test(RC4_to_bytes, key)\n",
        "\n",
        "print(f\"Sensitivity of Salsa20/12 to Key: {difference_salsa2012} bytes differ\")\n",
        "print(f\"Sensitivity of RC4 to Key: {difference_rc4} bytes differ\")\n"
      ],
      "metadata": {
        "colab": {
          "base_uri": "https://localhost:8080/"
        },
        "id": "Cipu5mo2swy3",
        "outputId": "ef6d82ee-adb8-4ddb-e0d4-c0b8a15ab96f"
      },
      "execution_count": 17,
      "outputs": [
        {
          "output_type": "stream",
          "name": "stdout",
          "text": [
            "Sensitivity of Salsa20/12 to Key: 510 bytes differ\n",
            "Sensitivity of RC4 to Key: 509 bytes differ\n"
          ]
        }
      ]
    }
  ]
}